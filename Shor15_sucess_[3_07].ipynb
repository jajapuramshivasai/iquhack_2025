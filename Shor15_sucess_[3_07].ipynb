{
  "cells": [
    {
      "cell_type": "markdown",
      "metadata": {
        "id": "view-in-github",
        "colab_type": "text"
      },
      "source": [
        "<a href=\"https://colab.research.google.com/github/jajapuramshivasai/iquhack_2025/blob/main/Shor15_sucess_%5B3_07%5D.ipynb\" target=\"_parent\"><img src=\"https://colab.research.google.com/assets/colab-badge.svg\" alt=\"Open In Colab\"/></a>"
      ]
    },
    {
      "cell_type": "markdown",
      "id": "255d7590-bf87-47d8-b0c6-ae67aef1403c",
      "metadata": {
        "id": "255d7590-bf87-47d8-b0c6-ae67aef1403c"
      },
      "source": [
        "See how to use Shor's algorithm to factor 15 here:    <b><a href=\"https://portal.quantumrings.com/doc/Shors.html\">Shor15</a></b>"
      ]
    },
    {
      "cell_type": "markdown",
      "id": "546dce63-062e-49d0-922a-ab233b397a70",
      "metadata": {
        "id": "546dce63-062e-49d0-922a-ab233b397a70"
      },
      "source": [
        "<i><b>Source code to factorize 15</b></i>"
      ]
    },
    {
      "cell_type": "markdown",
      "id": "85955e61-324f-4412-9bac-e6dd69699824",
      "metadata": {
        "id": "85955e61-324f-4412-9bac-e6dd69699824"
      },
      "source": [
        "Note: Be sure to use your API token and your account name."
      ]
    },
    {
      "cell_type": "markdown",
      "id": "ef5152de-a79d-4a8e-9870-77a2d13e265e",
      "metadata": {
        "id": "ef5152de-a79d-4a8e-9870-77a2d13e265e"
      },
      "source": [
        "Step 1. Import the required modules and obtain the backend"
      ]
    },
    {
      "metadata": {
        "ExecuteTime": {
          "end_time": "2025-02-02T05:24:47.967372Z",
          "start_time": "2025-02-02T05:24:47.312513Z"
        },
        "colab": {
          "base_uri": "https://localhost:8080/"
        },
        "id": "bb6453236173d29c",
        "outputId": "b4d4a406-233f-4213-e907-b8c8c58ffc51"
      },
      "cell_type": "code",
      "source": [
        "!pip install QuantumRingsLib"
      ],
      "id": "bb6453236173d29c",
      "outputs": [
        {
          "output_type": "stream",
          "name": "stdout",
          "text": [
            "Collecting QuantumRingsLib\n",
            "  Downloading QuantumRingsLib-0.9.11-cp311-cp311-manylinux_2_34_x86_64.whl.metadata (21 kB)\n",
            "Downloading QuantumRingsLib-0.9.11-cp311-cp311-manylinux_2_34_x86_64.whl (1.5 MB)\n",
            "\u001b[2K   \u001b[90m━━━━━━━━━━━━━━━━━━━━━━━━━━━━━━━━━━━━━━━━\u001b[0m \u001b[32m1.5/1.5 MB\u001b[0m \u001b[31m12.8 MB/s\u001b[0m eta \u001b[36m0:00:00\u001b[0m\n",
            "\u001b[?25hInstalling collected packages: QuantumRingsLib\n",
            "Successfully installed QuantumRingsLib-0.9.11\n"
          ]
        }
      ],
      "execution_count": 1
    },
    {
      "cell_type": "code",
      "execution_count": 2,
      "id": "1098cc1a-6195-4fb4-87bb-9001779b002c",
      "metadata": {
        "colab": {
          "base_uri": "https://localhost:8080/"
        },
        "id": "1098cc1a-6195-4fb4-87bb-9001779b002c",
        "outputId": "43cda0ea-b343-4a3f-998b-9c442038af03"
      },
      "outputs": [
        {
          "output_type": "execute_result",
          "data": {
            "text/plain": [
              "{'name': 'shiva_sj@ph.iitr.ac.in',\n",
              " 'token': 'rings-200.ClLnaB7LhHsuphvAbGRIa1to7KDTMGzt',\n",
              " 'max_qubits': '200'}"
            ]
          },
          "metadata": {},
          "execution_count": 2
        }
      ],
      "source": [
        "import QuantumRingsLib\n",
        "from QuantumRingsLib import QuantumRegister, AncillaRegister, ClassicalRegister, QuantumCircuit\n",
        "from QuantumRingsLib import QuantumRingsProvider\n",
        "from QuantumRingsLib import job_monitor\n",
        "from QuantumRingsLib import JobStatus\n",
        "from matplotlib import pyplot as plt\n",
        "import numpy as np\n",
        "import math\n",
        "\n",
        "provider = QuantumRingsProvider(token ='rings-200.ClLnaB7LhHsuphvAbGRIa1to7KDTMGzt', name='shiva_sj@ph.iitr.ac.in')\n",
        "backend = provider.get_backend(\"scarlet_quantum_rings\")\n",
        "shots = 1024\n",
        "\n",
        "provider.active_account()"
      ]
    },
    {
      "cell_type": "markdown",
      "id": "f92608ce-86bd-4760-bc1c-ca7e722ae280",
      "metadata": {
        "id": "f92608ce-86bd-4760-bc1c-ca7e722ae280"
      },
      "source": [
        "Step 2. Define the core methods"
      ]
    },
    {
      "cell_type": "code",
      "execution_count": 3,
      "id": "f32086a1-a980-4d19-8f14-0adcaae9c9c9",
      "metadata": {
        "id": "f32086a1-a980-4d19-8f14-0adcaae9c9c9"
      },
      "outputs": [],
      "source": [
        "def iqft_cct(qc, b, n):\n",
        "    \"\"\"\n",
        "    The inverse QFT circuit\n",
        "\n",
        "    Args:\n",
        "\n",
        "        qc (QuantumCircuit):\n",
        "                The quantum circuit\n",
        "\n",
        "        b (QuantumRegister):\n",
        "                The target register\n",
        "\n",
        "        n (int):\n",
        "                The number of qubits in the registers to use\n",
        "\n",
        "    Returns:\n",
        "        None\n",
        "\n",
        "    \"\"\"\n",
        "\n",
        "    for i in range (n):\n",
        "        for j in range (1, i+1):\n",
        "            # for inverse transform, we have to use negative angles\n",
        "            qc.cu1(  -math.pi / 2** ( i -j + 1 ), b[j - 1], b[i])\n",
        "        # the H transform should be done after the rotations\n",
        "        qc.h(b[i])\n",
        "    qc.barrier()\n",
        "    return\n",
        "\n",
        "def plot_histogram (counts, title=\"\"):\n",
        "    \"\"\"\n",
        "    Plots the histogram of the counts\n",
        "\n",
        "    Args:\n",
        "\n",
        "        counts (dict):\n",
        "            The dictionary containing the counts of states\n",
        "\n",
        "        titles (str):\n",
        "            A title for the graph.\n",
        "\n",
        "    Returns:\n",
        "        None\n",
        "\n",
        "    \"\"\"\n",
        "    fig, ax = plt.subplots(figsize =(10, 7))\n",
        "    plt.xlabel(\"States\")\n",
        "    plt.ylabel(\"Counts\")\n",
        "    mylist = [key for key, val in counts.items() for _ in range(val)]\n",
        "\n",
        "    unique, inverse = np.unique(mylist, return_inverse=True)\n",
        "    bin_counts = np.bincount(inverse)\n",
        "\n",
        "    plt.bar(unique, bin_counts)\n",
        "\n",
        "    maxFreq = max(counts.values())\n",
        "    plt.ylim(ymax=np.ceil(maxFreq / 10) * 10 if maxFreq % 10 else maxFreq + 10)\n",
        "    # Show plot\n",
        "    plt.title(title)\n",
        "    plt.show()\n",
        "    return\n",
        "\n",
        "\n",
        "\n",
        "\n"
      ]
    },
    {
      "cell_type": "markdown",
      "source": [
        "# STAR"
      ],
      "metadata": {
        "id": "LHy43Jx794RA"
      },
      "id": "LHy43Jx794RA"
    },
    {
      "cell_type": "code",
      "source": [
        "#my addition\n",
        "\n",
        "#classical functions\n",
        "\n",
        "def egcd(a, b):\n",
        "    if a == 0:\n",
        "        return (b, 0, 1)\n",
        "    else:\n",
        "        g, y, x = egcd(b % a, a)\n",
        "        return (g, x - (b // a) * y, y)\n",
        "\n",
        "def modinv(a, m):\n",
        "    g, x, y = egcd(a, m)\n",
        "    if g != 1:\n",
        "        raise Exception('modular inverse does not exist')\n",
        "    else:\n",
        "        return x % m\n",
        "\n",
        "\"\"\"Function that calculates the array of angles to be used in the addition in Fourier Space\"\"\"\n",
        "def getAngles(a,N):\n",
        "    s=bin(int(a))[2:].zfill(N)\n",
        "    angles=np.zeros([N])\n",
        "    for i in range(0, N):\n",
        "        for j in range(i,N):\n",
        "            if s[j]=='1':\n",
        "                angles[N-i-1]+=pow(2, -(j-i))\n",
        "        angles[N-i-1]*=np.pi\n",
        "    return angles\n",
        "\n",
        "\n",
        "\n"
      ],
      "metadata": {
        "id": "eUecYdXioMsC"
      },
      "id": "eUecYdXioMsC",
      "execution_count": 4,
      "outputs": []
    },
    {
      "cell_type": "code",
      "source": [
        "def swap_registers(circuit, reg, n):\n",
        "\tfor i in range(n//2):\n",
        "\t\tcircuit.swap(reg[i], reg[n-i-1])\n",
        "\n",
        "\n",
        "# applies qft to first n qubits of reg\n",
        "def qft(circuit, reg, n, swaps):\n",
        "\tfor j in range(n):\n",
        "\t\tcircuit.h(reg[n-j-1])\n",
        "\t\tfor m in range(n-j-1):\n",
        "\t\t\tcircuit.cu1(np.pi/float(2**(n-j-1-m)), reg[m], reg[n-j-1])\n",
        "\n",
        "\tif(swaps):\n",
        "\t\tswap_registers(circuit, reg, n)\n",
        "\n",
        "# applies inverse qft to first n qubits of reg\n",
        "def qft_dagger(circuit, reg, n, swaps):\n",
        "\tif(swaps):\n",
        "\t\tswap_registers(circuit, reg, n)\n",
        "\n",
        "\tfor j in range(n):\n",
        "\t\tfor m in range(j):\n",
        "\t\t\tcircuit.cu1(-np.pi/float(2**(j-m)), reg[m], reg[j])\n",
        "\t\tcircuit.h(reg[j])"
      ],
      "metadata": {
        "id": "cfdQbWT_tUUH"
      },
      "id": "cfdQbWT_tUUH",
      "execution_count": 5,
      "outputs": []
    },
    {
      "cell_type": "code",
      "source": [
        "#quantum functions\n",
        "\n",
        "\"\"\"Creation of a doubly controlled phase gate\"\"\"\n",
        "def ccphase(circuit,angle,ctl1,ctl2,tgt):\n",
        "    circuit.cu1(angle/2,ctl1,tgt)\n",
        "    circuit.cx(ctl2,ctl1)\n",
        "    circuit.cu1(-angle/2,ctl1,tgt)\n",
        "    circuit.cx(ctl2,ctl1)\n",
        "    circuit.cu1(angle/2,ctl2,tgt)\n",
        "\n",
        "\"\"\"Creation of the circuit that performs addition by a in Fourier Space\"\"\"\n",
        "\"\"\"Can also be used for subtraction by setting the parameter inv to a value different from 0\"\"\"\n",
        "def phiADD(circuit,q,a,N,inv):\n",
        "    angle=getAngles(a,N)\n",
        "    for i in range(0,N):\n",
        "        if inv==0:\n",
        "            circuit.u1(angle[i],q[i])\n",
        "        else:\n",
        "            circuit.u1(-angle[i],q[i])\n",
        "\n",
        "\"\"\"Single controlled version of the phiADD circuit\"\"\"\n",
        "def cphiADD(circuit,q,ctl,a,n,inv):\n",
        "    angle=getAngles(a,n)\n",
        "    for i in range(0,n):\n",
        "        if inv==0:\n",
        "            circuit.cu1(angle[i],ctl,q[i])\n",
        "        else:\n",
        "            circuit.cu1(-angle[i],ctl,q[i])\n",
        "\n",
        "\"\"\"Doubly controlled version of the phiADD circuit\"\"\"\n",
        "def ccphiADD(circuit,q,ctl1,ctl2,a,n,inv):\n",
        "    angle=getAngles(a,n)\n",
        "    for i in range(0,n):\n",
        "        if inv==0:\n",
        "            ccphase(circuit,angle[i],ctl1,ctl2,q[i])\n",
        "        else:\n",
        "            ccphase(circuit,-angle[i],ctl1,ctl2,q[i])\n",
        "\n",
        "\"\"\"Circuit that implements doubly controlled modular addition by a\"\"\"\n",
        "def ccphiADDmodN(circuit, q, ctl1, ctl2, aux, a, N, n):\n",
        "    ccphiADD(circuit, q, ctl1, ctl2, a, n, 0)\n",
        "    phiADD(circuit, q, N, n, 1)\n",
        "    qft_dagger(circuit, q, n, 0)\n",
        "    circuit.cx(q[n-1],aux)\n",
        "    qft(circuit,q,n,0)\n",
        "    cphiADD(circuit, q, aux, N, n, 0)\n",
        "\n",
        "    ccphiADD(circuit, q, ctl1, ctl2, a, n, 1)\n",
        "    qft_dagger(circuit, q, n, 0)\n",
        "    circuit.x(q[n-1])\n",
        "    circuit.cx(q[n-1], aux)\n",
        "    circuit.x(q[n-1])\n",
        "    qft(circuit,q,n,0)\n",
        "    ccphiADD(circuit, q, ctl1, ctl2, a, n, 0)\n",
        "\n",
        "\"\"\"Circuit that implements the inverse of doubly controlled modular addition by a\"\"\"\n",
        "def ccphiADDmodN_inv(circuit, q, ctl1, ctl2, aux, a, N, n):\n",
        "    ccphiADD(circuit, q, ctl1, ctl2, a, n, 1)\n",
        "    qft_dagger(circuit, q, n, 0)\n",
        "    circuit.x(q[n-1])\n",
        "    circuit.cx(q[n-1],aux)\n",
        "    circuit.x(q[n-1])\n",
        "    qft(circuit, q, n, 0)\n",
        "    ccphiADD(circuit, q, ctl1, ctl2, a, n, 0)\n",
        "    cphiADD(circuit, q, aux, N, n, 1)\n",
        "    qft_dagger(circuit, q, n, 0)\n",
        "    circuit.cx(q[n-1], aux)\n",
        "    qft(circuit, q, n, 0)\n",
        "    phiADD(circuit, q, N, n, 0)\n",
        "    ccphiADD(circuit, q, ctl1, ctl2, a, n, 1)\n",
        "\n",
        "\"\"\"Circuit that implements single controlled modular multiplication by a\"\"\"\n",
        "def cMULTmodN(circuit, ctl, q, aux, a, N, n):\n",
        "    qft(circuit,aux,n+1,0)\n",
        "    for i in range(0, n):\n",
        "        ccphiADDmodN(circuit, aux, q[i], ctl, aux[n+1], (2**i)*a % N, N, n+1)\n",
        "    qft_dagger(circuit, aux, n+1, 0)\n",
        "\n",
        "    for i in range(0, n):\n",
        "        circuit.cswap(ctl,q[i],aux[i])\n",
        "\n",
        "    a_inv = modinv(a, N)\n",
        "    qft(circuit, aux, n+1, 0)\n",
        "    i = n-1\n",
        "    while i >= 0:\n",
        "        ccphiADDmodN_inv(circuit, aux, q[i], ctl, aux[n+1], pow(2,i)*a_inv % N, N, n+1)\n",
        "        i -= 1\n",
        "    qft_dagger(circuit, aux, n+1, 0)\n",
        "\n",
        "\n",
        "# calculate period of f(x)=a^x mod N\n",
        "def periodFinding(N, a):\n",
        "\t# n = np.ceil(np.log(N, 2))\n",
        "\tn = int(np.ceil(np.log2(N)))\n",
        "\tif(n<4):\n",
        "\t\tn=4\n",
        "\tm = 2*n\n",
        "\n",
        "\tqregUp \t\t= QuantumRegister(m)\n",
        "\tqregDown \t= QuantumRegister(n)\n",
        "\taux \t\t= QuantumRegister(n+2)\n",
        "\tcreg \t\t= ClassicalRegister(m)\n",
        "\n",
        "\tqc = QuantumCircuit(qregUp, qregDown, aux, creg)\n",
        "\n",
        "\tqft(qc, qregUp, m, 1)\n",
        "\tqc.x(qregDown[0])\n",
        "\n",
        "\tfor i in range(0, m):\n",
        "\t\tcMULTmodN(qc, qregUp[i], qregDown, aux, int(pow(a, pow(2, i))), N, n)\n",
        "\n",
        "\tqft_dagger(qc, qregUp, m, 1)\n",
        "\tqc.measure(qregUp, creg)\n",
        "\n",
        "\n",
        "\tshots = 1024\n",
        "\tjob = backend.run(qc, shots=shots)\n",
        "\tcounts = job.result().get_counts(qc)\n",
        "\n",
        "\t### process data start\n",
        "\ti=0\n",
        "\tavg = 0\n",
        "\twhile i < len(counts):\n",
        "\t\tval = list(counts.values())[i]\n",
        "\t\toutput_desired = list(counts.keys())[i]\n",
        "\t\tx_value = int(output_desired, 2)\n",
        "\t\tprint(\"value:{0} \\t times:{1}\".format(x_value, val))\n",
        "\n",
        "\t\tavg += (val*val)/shots\n",
        "\n",
        "\t\ti += 1\n",
        "\n",
        "\ti=0\n",
        "\tVariance = 0\n",
        "\twhile i < len(counts):\n",
        "\t\tval = list(counts.values())[i]\n",
        "\n",
        "\t\tVariance += (((val-avg)**2)*val)/shots\n",
        "\n",
        "\t\ti += 1\n",
        "\n",
        "\tstdDev = np.sqrt(Variance)\n",
        "\ttreshold = avg - stdDev\n",
        "\n",
        "\tif(stdDev<avg*0.3):\n",
        "\t\ttreshold = 0\n",
        "\n",
        "\tprint(\"---------------------------\")\n",
        "\tprint(\"avg     : {0}\".format(avg))\n",
        "\tprint(\"stdDev  : {0}\".format(stdDev))\n",
        "\tprint(\"treshold: {0}\".format(treshold))\n",
        "\tprint(\"---------------------------\")\n",
        "\t### process data end\n",
        "\n",
        "\ti=0\n",
        "\tMOverR = 2**m\n",
        "\twhile i < len(counts):\n",
        "\t\tval = list(counts.values())[i]\n",
        "\t\tif(val<treshold):\n",
        "\t\t\ti+=1\n",
        "\t\t\tcontinue\n",
        "\t\toutput_desired = list(counts.keys())[i]\n",
        "\t\tx_value = int(output_desired, 2)\n",
        "\n",
        "\t\tprint(\"value:{0} \\t times:{1}\".format(x_value, val))\n",
        "\n",
        "\t\tif(x_value<MOverR and x_value!=0):\n",
        "\t\t\tMOverR = x_value\n",
        "\n",
        "\t\ti+=1;\n",
        "\n",
        "\tprint(\"---------------------------\")\n",
        "\treturn np.floor(((2**m)/MOverR)+0.5) #contFrac(MOverR, m)\n",
        "\n",
        "def gcd(a, b):\n",
        "\tif(b==0):\n",
        "\t\treturn a\n",
        "\telse:\n",
        "\t\treturn gcd(b, a%b)\n",
        "\n",
        "# select a random number a\n",
        "def Step1(N):\n",
        "\ta = random.randint(2, N-1)\n",
        "\tprint(\"Selected a: {0}\".format(a))\n",
        "\n",
        "\tgcdAN = gcd(a,N)\n",
        "\tif(gcdAN!=1):\n",
        "\t\tp = gcdAN\n",
        "\t\tq = N/gcdAN\n",
        "\t\treturn (p, q)\n",
        "\telse:\n",
        "\t\treturn (a, 0)\n",
        "\n",
        "# find the period and check if it satisfies the conditions\n",
        "def Step2(N, a):\n",
        "\tprint(\"executing the quantum circuit...\")\n",
        "\tr = periodFinding(N, a)\n",
        "\tprint(\"found r:{0}\".format(r))\n",
        "\tif(r%2==1):\n",
        "\t\treturn 0\n",
        "\telse:\n",
        "\t\tif((a**(r/2)+1)%N==0):\n",
        "\t\t\tprint(\"a**(r/2)+1) mod N = 0\")\n",
        "\t\t\treturn 0\n",
        "\t\telse:\n",
        "\t\t\treturn r\n",
        "\n",
        "\n",
        "def MyShor(N):\n",
        "\tr = 0\n",
        "\ta = 0\n",
        "\tp = 0\n",
        "\tq = 0\n",
        "\twhile(True):\n",
        "\t\tprint(\"-----------Step1--------------\")\n",
        "\t\t(p,q) = Step1(N)\n",
        "\t\tif(q!=0):\n",
        "\t\t\tprint(\"Lucky selection for a\")\n",
        "\t\t\treturn (p,q)\n",
        "\t\telse:\n",
        "\t\t\ta = p\n",
        "\t\t\tprint(\"-----------Step2--------------\")\n",
        "\t\t\tr = Step2(N,a)\n",
        "\t\t\tif(r!=0):\n",
        "\t\t\t\tp = gcd((a**(r/2)-1),N)\n",
        "\t\t\t\tq = gcd((a**(r/2)+1),N)\n",
        "\t\t\t\tbreak\n",
        "\n",
        "\t\t\tprint(\"\\n+++++++++++++++++++++++++++++++++++++++++++++\\n\")\n",
        "\n",
        "\treturn (p,q)"
      ],
      "metadata": {
        "id": "5VjmGZrDsqRj"
      },
      "id": "5VjmGZrDsqRj",
      "execution_count": 9,
      "outputs": []
    },
    {
      "cell_type": "code",
      "source": [
        "import random"
      ],
      "metadata": {
        "id": "accDSWWV-wFQ"
      },
      "id": "accDSWWV-wFQ",
      "execution_count": 7,
      "outputs": []
    },
    {
      "cell_type": "code",
      "source": [
        "p,q = MyShor(3127)\n",
        "print(p,q)\n",
        "# print(q)"
      ],
      "metadata": {
        "colab": {
          "base_uri": "https://localhost:8080/"
        },
        "id": "x7ch_OVC9-Ky",
        "outputId": "67cd1912-df8f-43d4-f8d0-cd663659d2ef"
      },
      "id": "x7ch_OVC9-Ky",
      "execution_count": null,
      "outputs": [
        {
          "output_type": "stream",
          "name": "stdout",
          "text": [
            "-----------Step1--------------\n",
            "Selected a: 1901\n",
            "-----------Step2--------------\n",
            "executing the quantum circuit...\n"
          ]
        }
      ]
    },
    {
      "cell_type": "markdown",
      "source": [
        "# END\n"
      ],
      "metadata": {
        "id": "KpQ-zbU498vX"
      },
      "id": "KpQ-zbU498vX"
    },
    {
      "cell_type": "markdown",
      "id": "2f211c13-04db-4f78-b700-5bde24875ab8",
      "metadata": {
        "id": "2f211c13-04db-4f78-b700-5bde24875ab8"
      },
      "source": [
        "Step 3. Perform the algorithm"
      ]
    },
    {
      "cell_type": "code",
      "execution_count": null,
      "id": "90af8eb2-e56e-46ff-baf2-fed0c08306f9",
      "metadata": {
        "colab": {
          "base_uri": "https://localhost:8080/"
        },
        "id": "90af8eb2-e56e-46ff-baf2-fed0c08306f9",
        "outputId": "f4d9654b-8d07-4651-b04a-50c88433f606"
      },
      "outputs": [
        {
          "output_type": "stream",
          "name": "stdout",
          "text": [
            "       ┌───┐ ╎                                     ╎ ┌───┐               »\n",
            "q[0]: ■┤ H ├─╎─────────────────────────────────────╎─┤ H ├───────■───────»\n",
            "       ├───┤ ╎                                     ╎ └───┘┌──────┴──────┐»\n",
            "q[1]: ■┤ H ├─╎──────────────────■─────────■────────╎──────┤ U1(-pi/2)   ├»\n",
            "       ├───┤ ╎                  │         │        ╎      └─────────────┘»\n",
            "q[2]: ■┤ H ├─╎───■────■─────────│─────────│────────╎─────────────────────»\n",
            "       └───┘ ╎   │    │       ┌─┴─┐       │        ╎                     »\n",
            "q[3]: ■──────╎───│────│───────┤ X ├──■────│────────╎─────────────────────»\n",
            "             ╎ ┌─┴─┐  │  ┌───┐└─┬─┘  │    │  ┌───┐ ╎                     »\n",
            "q[4]: ■──────╎─┤ X ├──│──┤ X ├──│────│────■──┤ X ├─╎─────────────────────»\n",
            "             ╎ └───┘┌─┴─┐└─┬─┘  │  ┌─┴─┐  │  └─┬─┘ ╎                     »\n",
            "q[5]: ■──────╎──────┤ X ├──│────■──┤ X ├──│────│───╎─────────────────────»\n",
            "       ┌───┐ ╎      └───┘  │       └───┘┌─┴─┐  │   ╎                     »\n",
            "q[6]: ■┤ X ├─╎─────────────■────────────┤ X ├──■───╎─────────────────────»\n",
            "       └───┘ ╎                          └───┘      ╎                     »\n",
            "c: 3/ ■══════════════════════════════════════════════════════════════════»\n",
            "                                                                         »\n",
            "«                                                ╎ ┌───┐           \n",
            "«q[0]: ■────────────■────────────────────────────╎─┤ M ├────────── \n",
            "«       ┌───┐       │                            ╎ └─╥─┘┌───┐      \n",
            "«q[1]: ■┤ H ├───────│──────────────■─────────────╎───║──┤ M ├───── \n",
            "«       └───┘┌──────┴──────┐┌──────┴──────┐┌───┐ ╎   ║  └─╥─┘┌───┐ \n",
            "«q[2]: ■─────┤ U1(-pi/4)   ├┤ U1(-pi/2)   ├┤ H ├─╎───║────║──┤ M ├ \n",
            "«            └─────────────┘└─────────────┘└───┘ ╎   ║    ║  └─╥─┘ \n",
            "«q[3]: ■─────────────────────────────────────────╎───║────║────║── \n",
            "«                                                ╎   ║    ║    ║   \n",
            "«q[4]: ■─────────────────────────────────────────╎───║────║────║── \n",
            "«                                                ╎   ║    ║    ║   \n",
            "«q[5]: ■─────────────────────────────────────────╎───║────║────║── \n",
            "«                                                ╎   ║    ║    ║   \n",
            "«q[6]: ■─────────────────────────────────────────╎───║────║────║── \n",
            "«                                                ╎   ║    ║    ║   \n",
            "«c: 3/ ■═════════════════════════════════════════════╩════╩════╩══ \n",
            "«                                                    0    1    2   \n"
          ]
        }
      ],
      "source": [
        "# Shor’s algorithm to factorize 15 using 7^x mod 15.\n",
        "numberofqubits = 7\n",
        "shots = 1024\n",
        "\n",
        "q = QuantumRegister(numberofqubits , 'q')\n",
        "c = ClassicalRegister(3 , 'c')\n",
        "qc = QuantumCircuit(q, c)\n",
        "\n",
        "# Initialize source and target registers\n",
        "qc.h(0)\n",
        "qc.h(1)\n",
        "qc.h(2)\n",
        "qc.x(6)\n",
        "qc.barrier()\n",
        "\n",
        "# Modular exponentiation 7^x mod 15\n",
        "qc.cx(q[2],q[4] )\n",
        "qc.cx(q[2],q[5] )\n",
        "qc.cx(q[6],q[4] )\n",
        "qc.ccx(q[1],q[5],q[3] )\n",
        "qc.cx(q[3],q[5] )\n",
        "qc.ccx(q[1],q[4],q[6] )\n",
        "qc.cx(q[6],q[4] ) #\n",
        "qc.barrier()\n",
        "\n",
        "# IQFT. Refer to implementation from earlier examples\n",
        "iqft_cct (qc, q, 3)\n",
        "\n",
        "# Measure\n",
        "qc.measure(q[0], c[0])\n",
        "qc.measure(q[1], c[1])\n",
        "qc.measure(q[2], c[2])\n",
        "\n",
        "# Draw the circuit\n",
        "qc.draw('mpl')"
      ]
    },
    {
      "cell_type": "markdown",
      "id": "72783cb3-a464-4a9c-98ac-9ad533f53222",
      "metadata": {
        "id": "72783cb3-a464-4a9c-98ac-9ad533f53222"
      },
      "source": [
        "The circuit to factor 15 shown above."
      ]
    },
    {
      "cell_type": "code",
      "execution_count": null,
      "id": "1923d677-ed19-4892-a44e-66f05fca3406",
      "metadata": {
        "colab": {
          "base_uri": "https://localhost:8080/",
          "height": 670
        },
        "id": "1923d677-ed19-4892-a44e-66f05fca3406",
        "outputId": "fbf3cac3-e420-4b85-d2e3-43133da63303"
      },
      "outputs": [
        {
          "output_type": "stream",
          "name": "stdout",
          "text": [
            "Job Running\n",
            "Job Done.\n",
            "Ending Job Monitor\n"
          ]
        },
        {
          "output_type": "display_data",
          "data": {
            "text/plain": [
              "<Figure size 1000x700 with 1 Axes>"
            ],
            "image/png": "[encoded data removed]"
          },
          "metadata": {}
        }
      ],
      "source": [
        "# Execute the circuit\n",
        "job = backend.run(qc, shots=shots)\n",
        "job_monitor(job)\n",
        "result = job.result()\n",
        "counts = result.get_counts()\n",
        "\n",
        "# visualize\n",
        "plot_histogram(counts)\n",
        "\n",
        "#clean up\n",
        "del q, c, qc\n",
        "del result\n",
        "del job"
      ]
    },
    {
      "cell_type": "markdown",
      "id": "d69fcca9-6545-4f8a-9758-0865e240a57e",
      "metadata": {
        "id": "d69fcca9-6545-4f8a-9758-0865e240a57e"
      },
      "source": [
        "A plot of the execution results is shown above. Compare this with the calculated values."
      ]
    },
    {
      "cell_type": "code",
      "source": [],
      "metadata": {
        "id": "eQ_0nSVtSQEC"
      },
      "id": "eQ_0nSVtSQEC",
      "execution_count": null,
      "outputs": []
    },
    {
      "cell_type": "markdown",
      "source": [
        "we got r = 6\n",
        "a = 7\n"
      ],
      "metadata": {
        "id": "VrbyhvM0SR4V"
      },
      "id": "VrbyhvM0SR4V"
    },
    {
      "cell_type": "markdown",
      "id": "f4545dfd-da08-4ac1-87c9-b426a92de748",
      "metadata": {
        "id": "f4545dfd-da08-4ac1-87c9-b426a92de748"
      },
      "source": [
        "Footnotes\n",
        "\n",
        "[1] This section is based on [10], [14], and [16].\n",
        "\n",
        "[2] https://research.ibm.com/blog/factor-15-shors-algorithm\n",
        "\n",
        "[3] https://en.wikipedia.org/wiki/Integer_factorization_records#Records_for_efforts_by_quantum_computers"
      ]
    }
  ],
  "metadata": {
    "kernelspec": {
      "display_name": "Python 3 (ipykernel)",
      "language": "python",
      "name": "python3"
    },
    "language_info": {
      "codemirror_mode": {
        "name": "ipython",
        "version": 3
      },
      "file_extension": ".py",
      "mimetype": "text/x-python",
      "name": "python",
      "nbconvert_exporter": "python",
      "pygments_lexer": "ipython3",
      "version": "3.11.11"
    },
    "colab": {
      "provenance": [],
      "include_colab_link": true
    }
  },
  "nbformat": 4,
  "nbformat_minor": 5
}