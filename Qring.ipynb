{
  "nbformat": 4,
  "nbformat_minor": 0,
  "metadata": {
    "colab": {
      "provenance": [],
      "include_colab_link": true
    },
    "kernelspec": {
      "name": "python3",
      "display_name": "Python 3"
    },
    "language_info": {
      "name": "python"
    }
  },
  "cells": [
    {
      "cell_type": "markdown",
      "metadata": {
        "id": "view-in-github",
        "colab_type": "text"
      },
      "source": [
        "<a href=\"https://colab.research.google.com/github/jajapuramshivasai/iquhack_2025/blob/main/Qring.ipynb\" target=\"_parent\"><img src=\"https://colab.research.google.com/assets/colab-badge.svg\" alt=\"Open In Colab\"/></a>"
      ]
    },
    {
      "cell_type": "markdown",
      "source": [
        "# 2025-Quantum-Factorization-With-Quantum-Rings\n"
      ],
      "metadata": {
        "id": "ccXwvBxs4--q"
      }
    },
    {
      "cell_type": "markdown",
      "source": [
        "# Shor's Algorithm\n",
        "---------\n",
        "\n",
        "\n",
        "## Step 1: Finding a Suitable Base\n",
        "\n",
        "Choose a random integer a such that 1 < a < N.\n",
        "Calculate the greatest common divisor (GCD) of a and N.\n",
        "If GCD(a, N) ≠ 1, then GCD(a, N) is a non-trivial factor of N, and the algorithm terminates.\n",
        "If GCD(a, N) = 1, proceed to Step 2.\n",
        "\n",
        "\n",
        "## Step 2: Period Finding\n",
        "\n",
        "Determine the period (r) of the function f(x) = aˣ mod N. This is the smallest positive integer r such that aʳ mod N = 1.\n",
        "If r is odd, return to Step 1 with a different random a.\n",
        "If r is even and a^(r/2) + 1 ≡ 0 (mod N), return to Step 1 with a different random a.\n",
        "If r is even and a^(r/2) + 1 <binary data, 1 bytes><binary data, 1 bytes><binary data, 1 bytes> 0 (mod N), proceed to Step 3.\n",
        "\n",
        "## Step 3: Factor Calculation\n",
        "\n",
        "Since aʳ ≡ 1 (mod N) and r is even, we can write aʳ - 1 = kN for some integer k. This can be factored as (a^(r/2) - 1)(a^(r/2) + 1) = kN.\n",
        "Calculate p = GCD(a^(r/2) - 1, N) and q = GCD(a^(r/2) + 1, N).\n",
        "p and q are likely to be non-trivial factors of N. The algorithm terminates, having (likely) found a factorization."
      ],
      "metadata": {
        "id": "HyCAyF4H4pkr"
      }
    },
    {
      "cell_type": "code",
      "source": [
        "!pip install QuantumRingsLib"
      ],
      "metadata": {
        "colab": {
          "base_uri": "https://localhost:8080/"
        },
        "id": "aYxFT5-O4mtL",
        "outputId": "3542e796-3b3a-4c6a-dd50-ed60901df657"
      },
      "execution_count": 1,
      "outputs": [
        {
          "output_type": "stream",
          "name": "stdout",
          "text": [
            "Collecting QuantumRingsLib\n",
            "  Downloading QuantumRingsLib-0.9.11-cp311-cp311-manylinux_2_34_x86_64.whl.metadata (21 kB)\n",
            "Downloading QuantumRingsLib-0.9.11-cp311-cp311-manylinux_2_34_x86_64.whl (1.5 MB)\n",
            "\u001b[?25l   \u001b[90m━━━━━━━━━━━━━━━━━━━━━━━━━━━━━━━━━━━━━━━━\u001b[0m \u001b[32m0.0/1.5 MB\u001b[0m \u001b[31m?\u001b[0m eta \u001b[36m-:--:--\u001b[0m\r\u001b[2K   \u001b[91m━━━━━━━━\u001b[0m\u001b[90m╺\u001b[0m\u001b[90m━━━━━━━━━━━━━━━━━━━━━━━━━━━━━━━\u001b[0m \u001b[32m0.3/1.5 MB\u001b[0m \u001b[31m9.8 MB/s\u001b[0m eta \u001b[36m0:00:01\u001b[0m\r\u001b[2K   \u001b[91m━━━━━━━━━━━━━━━━━━━━━━━━━━━━━━━━━━━━━━━\u001b[0m\u001b[91m╸\u001b[0m \u001b[32m1.5/1.5 MB\u001b[0m \u001b[31m25.0 MB/s\u001b[0m eta \u001b[36m0:00:01\u001b[0m\r\u001b[2K   \u001b[90m━━━━━━━━━━━━━━━━━━━━━━━━━━━━━━━━━━━━━━━━\u001b[0m \u001b[32m1.5/1.5 MB\u001b[0m \u001b[31m16.5 MB/s\u001b[0m eta \u001b[36m0:00:00\u001b[0m\n",
            "\u001b[?25hInstalling collected packages: QuantumRingsLib\n",
            "Successfully installed QuantumRingsLib-0.9.11\n"
          ]
        }
      ]
    },
    {
      "cell_type": "markdown",
      "source": [
        "## Import the required modules and obtain the backend"
      ],
      "metadata": {
        "id": "9mm3_hOF5gyw"
      }
    },
    {
      "cell_type": "code",
      "source": [
        "import QuantumRingsLib\n",
        "from QuantumRingsLib import QuantumRegister, AncillaRegister, ClassicalRegister, QuantumCircuit\n",
        "from QuantumRingsLib import QuantumRingsProvider\n",
        "from QuantumRingsLib import job_monitor\n",
        "from QuantumRingsLib import JobStatus\n",
        "from matplotlib import pyplot as plt\n",
        "\n",
        "\n",
        "provider = QuantumRingsProvider(token ='rings-200.ClLnaB7LhHsuphvAbGRIa1to7KDTMGzt', name='shiva_sj@ph.iitr.ac.in')\n",
        "backend = provider.get_backend(\"scarlet_quantum_rings\")\n",
        "provider.active_account()"
      ],
      "metadata": {
        "colab": {
          "base_uri": "https://localhost:8080/"
        },
        "id": "5bbix1cw4-VY",
        "outputId": "dea7e998-6c4b-437b-ffaf-402e57cd5140"
      },
      "execution_count": 2,
      "outputs": [
        {
          "output_type": "execute_result",
          "data": {
            "text/plain": [
              "{'name': 'shiva_sj@ph.iitr.ac.in',\n",
              " 'token': 'rings-200.ClLnaB7LhHsuphvAbGRIa1to7KDTMGzt',\n",
              " 'max_qubits': '200'}"
            ]
          },
          "metadata": {},
          "execution_count": 2
        }
      ]
    },
    {
      "cell_type": "code",
      "source": [
        "\n",
        "\n",
        "import random\n",
        "\n",
        "import numpy as np\n",
        "from math import pi, ceil, log, floor, sqrt\n",
        "\n",
        "\n",
        "def swap_registers(circuit, reg, n):\n",
        "\tfor i in range(n//2):\n",
        "\t\tcircuit.swap(reg[i], reg[n-i-1])\n",
        "\n",
        "# applies qft to first n qubits of reg\n",
        "def qft(circuit, reg, n, swaps):\n",
        "\tfor j in range(n):\n",
        "\t\tcircuit.h(reg[n-j-1])\n",
        "\t\tfor m in range(n-j-1):\n",
        "\t\t\tcircuit.cu1(pi/float(2**(n-j-1-m)), reg[m], reg[n-j-1])\n",
        "\n",
        "\tif(swaps):\n",
        "\t\tswap_registers(circuit, reg, n)\n",
        "\n",
        "# applies inverse qft to first n qubits of reg\n",
        "def qft_dagger(circuit, reg, n, swaps):\n",
        "\tif(swaps):\n",
        "\t\tswap_registers(circuit, reg, n)\n",
        "\n",
        "\tfor j in range(n):\n",
        "\t\tfor m in range(j):\n",
        "\t\t\tcircuit.cu1(-pi/float(2**(j-m)), reg[m], reg[j])\n",
        "\t\tcircuit.h(reg[j])\n",
        "\n",
        "##############################################################################################\n",
        "\n",
        "def egcd(a, b):\n",
        "    if a == 0:\n",
        "        return (b, 0, 1)\n",
        "    else:\n",
        "        g, y, x = egcd(b % a, a)\n",
        "        return (g, x - (b // a) * y, y)\n",
        "\n",
        "def modinv(a, m):\n",
        "    g, x, y = egcd(a, m)\n",
        "    if g != 1:\n",
        "        raise Exception('modular inverse does not exist')\n",
        "    else:\n",
        "        return x % m\n",
        "\n",
        "\"\"\"Function that calculates the array of angles to be used in the addition in Fourier Space\"\"\"\n",
        "def getAngles(a,N):\n",
        "    s=bin(int(a))[2:].zfill(N)\n",
        "    angles=np.zeros([N])\n",
        "    for i in range(0, N):\n",
        "        for j in range(i,N):\n",
        "            if s[j]=='1':\n",
        "                angles[N-i-1]+=pow(2, -(j-i))\n",
        "        angles[N-i-1]*=np.pi\n",
        "    return angles\n",
        "\n",
        "\"\"\"Creation of a doubly controlled phase gate\"\"\"\n",
        "def ccphase(circuit,angle,ctl1,ctl2,tgt):\n",
        "    circuit.cu1(angle/2,ctl1,tgt)\n",
        "    circuit.cx(ctl2,ctl1)\n",
        "    circuit.cu1(-angle/2,ctl1,tgt)\n",
        "    circuit.cx(ctl2,ctl1)\n",
        "    circuit.cu1(angle/2,ctl2,tgt)\n",
        "\n",
        "\"\"\"Creation of the circuit that performs addition by a in Fourier Space\"\"\"\n",
        "\"\"\"Can also be used for subtraction by setting the parameter inv to a value different from 0\"\"\"\n",
        "def phiADD(circuit,q,a,N,inv):\n",
        "    angle=getAngles(a,N)\n",
        "    for i in range(0,N):\n",
        "        if inv==0:\n",
        "            circuit.u1(angle[i],q[i])\n",
        "        else:\n",
        "            circuit.u1(-angle[i],q[i])\n",
        "\n",
        "\"\"\"Single controlled version of the phiADD circuit\"\"\"\n",
        "def cphiADD(circuit,q,ctl,a,n,inv):\n",
        "    angle=getAngles(a,n)\n",
        "    for i in range(0,n):\n",
        "        if inv==0:\n",
        "            circuit.cu1(angle[i],ctl,q[i])\n",
        "        else:\n",
        "            circuit.cu1(-angle[i],ctl,q[i])\n",
        "\n",
        "\"\"\"Doubly controlled version of the phiADD circuit\"\"\"\n",
        "def ccphiADD(circuit,q,ctl1,ctl2,a,n,inv):\n",
        "    angle=getAngles(a,n)\n",
        "    for i in range(0,n):\n",
        "        if inv==0:\n",
        "            ccphase(circuit,angle[i],ctl1,ctl2,q[i])\n",
        "        else:\n",
        "            ccphase(circuit,-angle[i],ctl1,ctl2,q[i])\n",
        "\n",
        "\"\"\"Circuit that implements doubly controlled modular addition by a\"\"\"\n",
        "def ccphiADDmodN(circuit, q, ctl1, ctl2, aux, a, N, n):\n",
        "    ccphiADD(circuit, q, ctl1, ctl2, a, n, 0)\n",
        "    phiADD(circuit, q, N, n, 1)\n",
        "    qft_dagger(circuit, q, n, 0)\n",
        "    circuit.cx(q[n-1],aux)\n",
        "    qft(circuit,q,n,0)\n",
        "    cphiADD(circuit, q, aux, N, n, 0)\n",
        "\n",
        "    ccphiADD(circuit, q, ctl1, ctl2, a, n, 1)\n",
        "    qft_dagger(circuit, q, n, 0)\n",
        "    circuit.x(q[n-1])\n",
        "    circuit.cx(q[n-1], aux)\n",
        "    circuit.x(q[n-1])\n",
        "    qft(circuit,q,n,0)\n",
        "    ccphiADD(circuit, q, ctl1, ctl2, a, n, 0)\n",
        "\n",
        "\"\"\"Circuit that implements the inverse of doubly controlled modular addition by a\"\"\"\n",
        "def ccphiADDmodN_inv(circuit, q, ctl1, ctl2, aux, a, N, n):\n",
        "    ccphiADD(circuit, q, ctl1, ctl2, a, n, 1)\n",
        "    qft_dagger(circuit, q, n, 0)\n",
        "    circuit.x(q[n-1])\n",
        "    circuit.cx(q[n-1],aux)\n",
        "    circuit.x(q[n-1])\n",
        "    qft(circuit, q, n, 0)\n",
        "    ccphiADD(circuit, q, ctl1, ctl2, a, n, 0)\n",
        "    cphiADD(circuit, q, aux, N, n, 1)\n",
        "    qft_dagger(circuit, q, n, 0)\n",
        "    circuit.cx(q[n-1], aux)\n",
        "    qft(circuit, q, n, 0)\n",
        "    phiADD(circuit, q, N, n, 0)\n",
        "    ccphiADD(circuit, q, ctl1, ctl2, a, n, 1)\n",
        "\n",
        "\"\"\"Circuit that implements single controlled modular multiplication by a\"\"\"\n",
        "def cMULTmodN(circuit, ctl, q, aux, a, N, n):\n",
        "    qft(circuit,aux,n+1,0)\n",
        "    for i in range(0, n):\n",
        "        ccphiADDmodN(circuit, aux, q[i], ctl, aux[n+1], (2**i)*a % N, N, n+1)\n",
        "    qft_dagger(circuit, aux, n+1, 0)\n",
        "\n",
        "    for i in range(0, n):\n",
        "        circuit.cswap(ctl,q[i],aux[i])\n",
        "\n",
        "    a_inv = modinv(a, N)\n",
        "    qft(circuit, aux, n+1, 0)\n",
        "    i = n-1\n",
        "    while i >= 0:\n",
        "        ccphiADDmodN_inv(circuit, aux, q[i], ctl, aux[n+1], pow(2,i)*a_inv % N, N, n+1)\n",
        "        i -= 1\n",
        "    qft_dagger(circuit, aux, n+1, 0)\n",
        "\n",
        "\n",
        "# calculate period of f(x)=a^x mod N\n",
        "def periodFinding(N, a):\n",
        "\tn = ceil(log(N, 2))\n",
        "\tif(n<4):\n",
        "\t\tn=4\n",
        "\tm = 2*n\n",
        "\n",
        "\tqregUp \t\t= QuantumRegister(m)\n",
        "\tqregDown \t= QuantumRegister(n)\n",
        "\taux \t\t= QuantumRegister(n+2)\n",
        "\tcreg \t\t= ClassicalRegister(m)\n",
        "\n",
        "\tqc = QuantumCircuit(qregUp, qregDown, aux, creg)\n",
        "\n",
        "\tqft(qc, qregUp, m, 1)\n",
        "\tqc.x(qregDown[0])\n",
        "\n",
        "\tfor i in range(0, m):\n",
        "\t\tcMULTmodN(qc, qregUp[i], qregDown, aux, int(pow(a, pow(2, i))), N, n)\n",
        "\n",
        "\tqft_dagger(qc, qregUp, m, 1)\n",
        "\tqc.measure(qregUp, creg)\n",
        "\n",
        "\n",
        "\tshots = 1000\n",
        "\t# job = execute(qc, Aer.get_backend('qasm_simulator'), shots=shots)\n",
        "\t# counts = job.result().get_counts(qc)\n",
        "\n",
        "\t# Execute the circuit\n",
        "\tjob = backend.run(qc, shots=shots) #Fixed indentation error\n",
        "\tjob_monitor(job)\n",
        "\tresult = job.result()\n",
        "\tcounts = result.get_counts()\n",
        "\n",
        "\n",
        "\t### process data start\n",
        "\ti=0\n",
        "\tavg = 0\n",
        "\twhile i < len(counts):\n",
        "\t\tval = list(counts.values())[i]\n",
        "\t\toutput_desired = list(counts.keys())[i]\n",
        "\t\tx_value = int(output_desired, 2)\n",
        "\t\tprint(\"value:{0} \\t times:{1}\".format(x_value, val))\n",
        "\n",
        "\t\tavg += (val*val)/shots\n",
        "\n",
        "\t\ti += 1\n",
        "\n",
        "\ti=0\n",
        "\tVariance = 0\n",
        "\twhile i < len(counts):\n",
        "\t\tval = list(counts.values())[i]\n",
        "\n",
        "\t\tVariance += (((val-avg)**2)*val)/shots\n",
        "\n",
        "\t\ti += 1\n",
        "\n",
        "\tstdDev = sqrt(Variance)\n",
        "\ttreshold = avg - stdDev\n",
        "\n",
        "\tif(stdDev<avg*0.3):\n",
        "\t\ttreshold = 0\n",
        "\n",
        "\tprint(\"---------------------------\")\n",
        "\tprint(\"avg     : {0}\".format(avg))\n",
        "\tprint(\"stdDev  : {0}\".format(stdDev))\n",
        "\tprint(\"treshold: {0}\".format(treshold))\n",
        "\tprint(\"---------------------------\")\n",
        "\t### process data end\n",
        "\n",
        "\n",
        "  #plot (generally not required)\n",
        "\t# plot = plt.bar(counts.keys(), counts.values())\n",
        "\t# plt.show()\n",
        "\n",
        "\ti=0\n",
        "\tMOverR = 2**m\n",
        "\twhile i < len(counts):\n",
        "\t\tval = list(counts.values())[i]\n",
        "\t\tif(val<treshold):\n",
        "\t\t\ti+=1\n",
        "\t\t\tcontinue\n",
        "\t\toutput_desired = list(counts.keys())[i]\n",
        "\t\tx_value = int(output_desired, 2)\n",
        "\n",
        "\t\tprint(\"value:{0} \\t times:{1}\".format(x_value, val))\n",
        "\n",
        "\t\tif(x_value<MOverR and x_value!=0):\n",
        "\t\t\tMOverR = x_value\n",
        "\n",
        "\t\ti+=1;\n",
        "\n",
        "\n",
        "\tprint(\"---------------------------\")\n",
        "  #clean up\n",
        "  # del q, c, qc\n",
        "\tdel qregUp\n",
        "\tdel qregDown\n",
        "\tdel aux\n",
        "\tdel creg\n",
        "\tdel qc\n",
        "\tdel result\n",
        "\tdel job\n",
        "\treturn floor(((2**m)/MOverR)+0.5) #contFrac(MOverR, m)\n",
        "\n",
        "def gcd(a, b):\n",
        "\tif(b==0):\n",
        "\t\treturn a\n",
        "\telse:\n",
        "\t\treturn gcd(b, a%b)\n",
        "\n",
        "# select a random number a\n",
        "def Step1(N):\n",
        "\ta = random.randint(2, N-1)\n",
        "\tprint(\"Selected a: {0}\".format(a))\n",
        "\n",
        "\tgcdAN = gcd(a,N)\n",
        "\tif(gcdAN!=1):\n",
        "\t\tp = gcdAN\n",
        "\t\tq = N/gcdAN\n",
        "\t\treturn (p, q)\n",
        "\telse:\n",
        "\t\treturn (a, 0)\n",
        "\n",
        "# find the period and check if it satisfies the conditions\n",
        "def Step2(N, a):\n",
        "\tprint(\"executing the quantum circuit...\")\n",
        "\tr = periodFinding(N, a)\n",
        "\tprint(\"found r:{0}\".format(r))\n",
        "\tif(r%2==1):\n",
        "\t\treturn 0\n",
        "\telse:\n",
        "\t\tif((a**(r/2)+1)%N==0):\n",
        "\t\t\tprint(\"a**(r/2)+1) mod N = 0\")\n",
        "\t\t\treturn 0\n",
        "\t\telse:\n",
        "\t\t\treturn r\n",
        "\n",
        "\n",
        "def run_shors_algorithm(N):\n",
        "\tr = 0\n",
        "\ta = 0\n",
        "\tp = 0\n",
        "\tq = 0\n",
        "\twhile(True):\n",
        "\t\tprint(\"-----------Step1--------------\")\n",
        "\t\t(p,q) = Step1(N)\n",
        "\t\tif(q!=0):\n",
        "\t\t\tprint(\"Lucky selection for a\")\n",
        "\t\t\treturn (p,q)\n",
        "\t\telse:\n",
        "\t\t\ta = p\n",
        "\t\t\tprint(\"-----------Step2--------------\")\n",
        "\t\t\tr = Step2(N,a)\n",
        "\t\t\tif(r!=0):\n",
        "\t\t\t\tp = gcd((a**(r/2)-1),N)\n",
        "\t\t\t\tq = gcd((a**(r/2)+1),N)\n",
        "\t\t\t\tbreak\n",
        "\n",
        "\t\t\tprint(\"\\n+++++++++++++++++++++++++++++++++++++++++++++\\n\")\n",
        "\n",
        "\treturn (p,q)"
      ],
      "metadata": {
        "id": "oovKID_y7Aru"
      },
      "execution_count": 3,
      "outputs": []
    },
    {
      "cell_type": "markdown",
      "source": [
        "## executing the given example for first time"
      ],
      "metadata": {
        "id": "X0K1VgPO52SP"
      }
    },
    {
      "cell_type": "code",
      "source": [
        "res = run_shors_algorithm(15)\n",
        "print(res)"
      ],
      "metadata": {
        "colab": {
          "base_uri": "https://localhost:8080/"
        },
        "id": "gXyJpAXUC9WG",
        "outputId": "804b1306-1e61-4dc9-dc59-75160cba4402"
      },
      "execution_count": 5,
      "outputs": [
        {
          "output_type": "stream",
          "name": "stdout",
          "text": [
            "-----------Step1--------------\n",
            "Selected a: 13\n",
            "-----------Step2--------------\n",
            "executing the quantum circuit...\n",
            "Job Running\n",
            "Job Running\n",
            "Job Running\n",
            "Job Done.\n",
            "Ending Job Monitor\n",
            "value:0 \t times:275\n",
            "value:64 \t times:253\n",
            "value:128 \t times:249\n",
            "value:192 \t times:223\n",
            "---------------------------\n",
            "avg     : 251.36400000000003\n",
            "stdDev  : 18.30594176763381\n",
            "treshold: 0\n",
            "---------------------------\n",
            "value:0 \t times:275\n",
            "value:64 \t times:253\n",
            "value:128 \t times:249\n",
            "value:192 \t times:223\n",
            "---------------------------\n",
            "found r:4\n",
            "(3.0, 5.0)\n"
          ]
        }
      ]
    },
    {
      "cell_type": "markdown",
      "source": [
        "## now let's execute oour algorithm on real tasks to be done."
      ],
      "metadata": {
        "id": "KSvoMah-588S"
      }
    },
    {
      "cell_type": "code",
      "source": [
        "semiprimes = {\n",
        "    8: 143,\n",
        "    10: 899,\n",
        "    12: 3127,\n",
        "    14: 11009,\n",
        "    16: 47053,\n",
        "    18: 167659,\n",
        "    20: 744647,\n",
        "    22: 3036893,\n",
        "    24: 11426971,\n",
        "    26: 58949987,\n",
        "    28: 208241207,\n",
        "    30: 857830637,\n",
        "    32: 2776108693,\n",
        "    34: 11455067797,\n",
        "    36: 52734393667,\n",
        "    38: 171913873883,\n",
        "    40: 862463409547\n",
        "}"
      ],
      "metadata": {
        "id": "eTK09zEp57t6"
      },
      "execution_count": 6,
      "outputs": []
    },
    {
      "cell_type": "markdown",
      "source": [
        "#### as it is cumbersome lets remove print statements"
      ],
      "metadata": {
        "id": "4OiNbGQZ6Wvl"
      }
    },
    {
      "cell_type": "code",
      "source": [
        "# calculate period of f(x)=a^x mod N\n",
        "def periodFinding(N, a):\n",
        "\tn = ceil(log(N, 2))\n",
        "\tif(n<4):\n",
        "\t\tn=4\n",
        "\tm = 2*n\n",
        "\n",
        "\tqregUp \t\t= QuantumRegister(m)\n",
        "\tqregDown \t= QuantumRegister(n)\n",
        "\taux \t\t= QuantumRegister(n+2)\n",
        "\tcreg \t\t= ClassicalRegister(m)\n",
        "\n",
        "\tqc = QuantumCircuit(qregUp, qregDown, aux, creg)\n",
        "\n",
        "\tqft(qc, qregUp, m, 1)\n",
        "\tqc.x(qregDown[0])\n",
        "\n",
        "\tfor i in range(0, m):\n",
        "\t\tcMULTmodN(qc, qregUp[i], qregDown, aux, int(pow(a, pow(2, i))), N, n)\n",
        "\n",
        "\tqft_dagger(qc, qregUp, m, 1)\n",
        "\tqc.measure(qregUp, creg)\n",
        "\n",
        "\n",
        "\tshots = 1000\n",
        "\t# job = execute(qc, Aer.get_backend('qasm_simulator'), shots=shots)\n",
        "\t# counts = job.result().get_counts(qc)\n",
        "\n",
        "\t# Execute the circuit\n",
        "\tjob = backend.run(qc, shots=shots) #Fixed indentation error\n",
        "\t# job_monitor(job)\n",
        "\tresult = job.result()\n",
        "\tcounts = result.get_counts()\n",
        "\n",
        "\n",
        "\t### process data start\n",
        "\ti=0\n",
        "\tavg = 0\n",
        "\twhile i < len(counts):\n",
        "\t\tval = list(counts.values())[i]\n",
        "\t\toutput_desired = list(counts.keys())[i]\n",
        "\t\tx_value = int(output_desired, 2)\n",
        "\t\t# print(\"value:{0} \\t times:{1}\".format(x_value, val))\n",
        "\n",
        "\t\tavg += (val*val)/shots\n",
        "\n",
        "\t\ti += 1\n",
        "\n",
        "\ti=0\n",
        "\tVariance = 0\n",
        "\twhile i < len(counts):\n",
        "\t\tval = list(counts.values())[i]\n",
        "\n",
        "\t\tVariance += (((val-avg)**2)*val)/shots\n",
        "\n",
        "\t\ti += 1\n",
        "\n",
        "\tstdDev = sqrt(Variance)\n",
        "\ttreshold = avg - stdDev\n",
        "\n",
        "\tif(stdDev<avg*0.3):\n",
        "\t\ttreshold = 0\n",
        "\n",
        "\t# print(\"---------------------------\")\n",
        "\t# print(\"avg     : {0}\".format(avg))\n",
        "\t# print(\"stdDev  : {0}\".format(stdDev))\n",
        "\t# print(\"treshold: {0}\".format(treshold))\n",
        "\t# print(\"---------------------------\")\n",
        "\t# ### process data end\n",
        "\n",
        "\n",
        "  #plot (generally not required)\n",
        "\t# plot = plt.bar(counts.keys(), counts.values())\n",
        "\t# plt.show()\n",
        "\n",
        "\ti=0\n",
        "\tMOverR = 2**m\n",
        "\twhile i < len(counts):\n",
        "\t\tval = list(counts.values())[i]\n",
        "\t\tif(val<treshold):\n",
        "\t\t\ti+=1\n",
        "\t\t\tcontinue\n",
        "\t\toutput_desired = list(counts.keys())[i]\n",
        "\t\tx_value = int(output_desired, 2)\n",
        "\n",
        "\t\t# print(\"value:{0} \\t times:{1}\".format(x_value, val))\n",
        "\n",
        "\t\tif(x_value<MOverR and x_value!=0):\n",
        "\t\t\tMOverR = x_value\n",
        "\n",
        "\t\ti+=1;\n",
        "\n",
        "\n",
        "\t# print(\"---------------------------\")\n",
        "  #clean up\n",
        "  # del q, c, qc\n",
        "\tdel qregUp\n",
        "\tdel qregDown\n",
        "\tdel aux\n",
        "\tdel creg\n",
        "\tdel qc\n",
        "\tdel result\n",
        "\tdel job\n",
        "\treturn floor(((2**m)/MOverR)+0.5) #contFrac(MOverR, m)\n",
        "\n",
        "\n",
        "\n",
        "# select a random number a\n",
        "def Step1(N):\n",
        "\ta = random.randint(2, N-1)\n",
        "\t# print(\"Selected a: {0}\".format(a))\n",
        "\n",
        "\tgcdAN = gcd(a,N)\n",
        "\tif(gcdAN!=1):\n",
        "\t\tp = gcdAN\n",
        "\t\tq = N/gcdAN\n",
        "\t\treturn (p, q)\n",
        "\telse:\n",
        "\t\treturn (a, 0)\n",
        "\n",
        "# find the period and check if it satisfies the conditions\n",
        "def Step2(N, a):\n",
        "\t# print(\"executing the quantum circuit...\")\n",
        "\tr = periodFinding(N, a)\n",
        "\t# print(\"found r:{0}\".format(r))\n",
        "\tif(r%2==1):\n",
        "\t\treturn 0\n",
        "\telse:\n",
        "\t\tif((a**(r/2)+1)%N==0):\n",
        "\t\t\t# print(\"a**(r/2)+1) mod N = 0\")\n",
        "\t\t\treturn 0\n",
        "\t\telse:\n",
        "\t\t\treturn r\n",
        "\n",
        "\n",
        "def run_shors_algorithm(N):\n",
        "\tr = 0\n",
        "\ta = 0\n",
        "\tp = 0\n",
        "\tq = 0\n",
        "\twhile(True):\n",
        "\t\t# print(\"-----------Step1--------------\")\n",
        "\t\t(p,q) = Step1(N)\n",
        "\t\tif(q!=0):\n",
        "\t\t\t# print(\"Lucky selection for a\")\n",
        "\t\t\treturn (p,q)\n",
        "\t\telse:\n",
        "\t\t\ta = p\n",
        "\t\t\t# print(\"-----------Step2--------------\")\n",
        "\t\t\tr = Step2(N,a)\n",
        "\t\t\tif(r!=0):\n",
        "\t\t\t\tp = gcd((a**(r/2)-1),N)\n",
        "\t\t\t\tq = gcd((a**(r/2)+1),N)\n",
        "\t\t\t\tbreak\n",
        "\n",
        "\t\t\t# print(\"\\n+++++++++++++++++++++++++++++++++++++++++++++\\n\")\n",
        "\n",
        "\treturn (p,q)"
      ],
      "metadata": {
        "id": "WOwhRstUEALB"
      },
      "execution_count": 10,
      "outputs": []
    },
    {
      "cell_type": "code",
      "source": [
        "res = run_shors_algorithm(semiprimes[8])\n",
        "print(res)"
      ],
      "metadata": {
        "colab": {
          "base_uri": "https://localhost:8080/"
        },
        "id": "m_apgqXw6ik6",
        "outputId": "903e4676-05a1-4458-e4c1-3a6a7e6d482f"
      },
      "execution_count": 15,
      "outputs": [
        {
          "output_type": "stream",
          "name": "stdout",
          "text": [
            "(11, 13.0)\n"
          ]
        }
      ]
    },
    {
      "cell_type": "code",
      "source": [
        "res = run_shors_algorithm(semiprimes[10])\n",
        "print(res)"
      ],
      "metadata": {
        "colab": {
          "base_uri": "https://localhost:8080/"
        },
        "id": "2NT_Rj4T6hwY",
        "outputId": "6974f032-c6fd-4cee-fccf-85d6a9ef870e"
      },
      "execution_count": 17,
      "outputs": [
        {
          "output_type": "stream",
          "name": "stdout",
          "text": [
            "(31, 29.0)\n"
          ]
        }
      ]
    },
    {
      "cell_type": "code",
      "source": [
        "res = run_shors_algorithm(semiprimes[12])\n",
        "print(res)"
      ],
      "metadata": {
        "id": "KDM3Z6wP_Ox1",
        "colab": {
          "base_uri": "https://localhost:8080/"
        },
        "outputId": "fa04655a-2abf-4b45-ccd4-8dc04ae6600c"
      },
      "execution_count": 18,
      "outputs": [
        {
          "output_type": "stream",
          "name": "stdout",
          "text": [
            "(59, 53.0)\n"
          ]
        }
      ]
    },
    {
      "cell_type": "markdown",
      "source": [
        "###  after this it takes too much time to compute"
      ],
      "metadata": {
        "id": "1LIpz59hGOVS"
      }
    },
    {
      "cell_type": "code",
      "source": [],
      "metadata": {
        "id": "8Gpa7Gm_F3F8"
      },
      "execution_count": null,
      "outputs": []
    },
    {
      "cell_type": "markdown",
      "source": [
        "# Refrences\n",
        "\n",
        "https://arxiv.org/pdf/quant-ph/0205095"
      ],
      "metadata": {
        "id": "0HzMNq0oF5_y"
      }
    },
    {
      "cell_type": "markdown",
      "source": [
        "# END\n",
        "\n"
      ],
      "metadata": {
        "id": "aN6vN7WDGEqA"
      }
    },
    {
      "cell_type": "code",
      "source": [],
      "metadata": {
        "id": "kJgMEJkXGLDA"
      },
      "execution_count": null,
      "outputs": []
    }
  ]
}